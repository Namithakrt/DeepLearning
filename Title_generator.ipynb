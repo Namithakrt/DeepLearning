{
  "cells": [
    {
      "cell_type": "markdown",
      "metadata": {
        "id": "view-in-github",
        "colab_type": "text"
      },
      "source": [
        "<a href=\"https://colab.research.google.com/github/Namithakrt/Title-Generator/blob/main/Title_generator.ipynb\" target=\"_parent\"><img src=\"https://colab.research.google.com/assets/colab-badge.svg\" alt=\"Open In Colab\"/></a>"
      ]
    },
    {
      "cell_type": "code",
      "execution_count": null,
      "metadata": {
        "id": "sv5EFj_55x4c"
      },
      "outputs": [],
      "source": [
        "import pandas as pd\n",
        "import string\n",
        "import numpy as np\n",
        "import json"
      ]
    },
    {
      "cell_type": "code",
      "execution_count": null,
      "metadata": {
        "id": "rUMhPv9U51ps"
      },
      "outputs": [],
      "source": [
        "from keras.preprocessing.sequence import pad_sequences\n",
        "from keras.layers import Embedding, LSTM, Dense, Dropout\n",
        "from keras.preprocessing.text import Tokenizer\n",
        "from keras.callbacks import EarlyStopping\n",
        "from keras.models import Sequential\n",
        "import keras.utils as ku"
      ]
    },
    {
      "cell_type": "code",
      "execution_count": null,
      "metadata": {
        "id": "7wxWO5Pb547p"
      },
      "outputs": [],
      "source": [
        "import tensorflow as tf\n",
        "tf.random.set_seed(2)\n",
        "from numpy.random import seed\n",
        "seed(1)"
      ]
    },
    {
      "cell_type": "code",
      "execution_count": null,
      "metadata": {
        "id": "Rs_AA1OX5-Rm"
      },
      "outputs": [],
      "source": [
        "#load all the datasets\n",
        "df1 = pd.read_csv('USvideos.csv')\n",
        "df2 = pd.read_csv('CAvideos.csv')\n",
        "df3 = pd.read_csv('GBvideos.csv')"
      ]
    },
    {
      "cell_type": "code",
      "execution_count": null,
      "metadata": {
        "id": "GBfKWtIf6Dqs"
      },
      "outputs": [],
      "source": [
        "#load the datasets containing the category names\n",
        "data1 = json.load(open('US_category_id.json'))\n",
        "data2 = json.load(open('CA_category_id.json'))\n",
        "data3 = json.load(open('GB_category_id.json'))"
      ]
    },
    {
      "cell_type": "code",
      "execution_count": null,
      "metadata": {
        "id": "3PwY772Y7wzi"
      },
      "outputs": [],
      "source": [
        "def category_extractor(data):\n",
        "    i_d = [data['items'][i]['id'] for i in range(len(data['items']))]\n",
        "    title = [data['items'][i]['snippet'][\"title\"] for i in range(len(data['items']))]\n",
        "    i_d = list(map(int, i_d))\n",
        "    category = zip(i_d, title)\n",
        "    category = dict(category)\n",
        "    return category"
      ]
    },
    {
      "cell_type": "code",
      "execution_count": null,
      "metadata": {
        "id": "t3NNyHi78_Ab"
      },
      "outputs": [],
      "source": [
        "#create a new category column by mapping the category names to their id\n",
        "df1['category_title'] = df1['category_id'].map(category_extractor(data1))\n",
        "df2['category_title'] = df2['category_id'].map(category_extractor(data2))\n",
        "df3['category_title'] = df3['category_id'].map(category_extractor(data3))"
      ]
    },
    {
      "cell_type": "code",
      "execution_count": null,
      "metadata": {
        "id": "bVChKTEO9a-z"
      },
      "outputs": [],
      "source": [
        "#join the dataframes\n",
        "df = pd.concat([df1, df2, df3], ignore_index=True)"
      ]
    },
    {
      "cell_type": "code",
      "execution_count": null,
      "metadata": {
        "id": "9bwCvum-9bqK"
      },
      "outputs": [],
      "source": [
        "#drop rows based on duplicate videos\n",
        "df = df.drop_duplicates('video_id')"
      ]
    },
    {
      "cell_type": "code",
      "execution_count": null,
      "metadata": {
        "id": "ohxJ81uY9l17"
      },
      "outputs": [],
      "source": [
        "#collect only titles of entertainment videos\n",
        "#feel free to use any category of video that you want\n",
        "entertainment = df[df['category_title'] == 'Entertainment']['title']\n",
        "entertainment = entertainment.tolist()\n"
      ]
    },
    {
      "cell_type": "code",
      "execution_count": null,
      "metadata": {
        "id": "SrYvewIvDCZ_"
      },
      "outputs": [],
      "source": [
        "#generating sequence"
      ]
    },
    {
      "cell_type": "code",
      "execution_count": null,
      "metadata": {
        "id": "ycNFOgzk90qg"
      },
      "outputs": [],
      "source": [
        "#remove punctuations and convert text to lowercase\n",
        "def clean_text(text):\n",
        "    text = ''.join(e for e in text if e not in string.punctuation).lower()\n",
        "    text = text.encode('utf8').decode('ascii', 'ignore')\n",
        "    return text\n",
        "\n",
        "corpus = [clean_text(e) for e in entertainment]"
      ]
    },
    {
      "cell_type": "code",
      "execution_count": null,
      "metadata": {
        "id": "vDYRGvJY96pS"
      },
      "outputs": [],
      "source": [
        "tokenizer = Tokenizer()\n",
        "def get_sequence_of_tokens(corpus):\n",
        "  #get tokens\n",
        "  tokenizer.fit_on_texts(corpus)\n",
        "  total_words = len(tokenizer.word_index) + 1\n",
        "\n",
        "  #convert to sequence of tokens\n",
        "  input_sequences = []\n",
        "  for line in corpus:\n",
        "    token_list = tokenizer.texts_to_sequences([line])[0]\n",
        "    for i in range(1, len(token_list)):\n",
        "      n_gram_sequence = token_list[:i+1]\n",
        "      input_sequences.append(n_gram_sequence)\n",
        "  return input_sequences, total_words\n",
        "inp_sequences, total_words = get_sequence_of_tokens(corpus)"
      ]
    },
    {
      "cell_type": "code",
      "execution_count": null,
      "metadata": {
        "id": "Ue5sHaB2C9X6"
      },
      "outputs": [],
      "source": [
        "#padding sequences"
      ]
    },
    {
      "cell_type": "code",
      "execution_count": null,
      "metadata": {
        "id": "SuQBRdaDDZk2"
      },
      "outputs": [],
      "source": [
        "def generate_padded_sequences(input_sequences):\n",
        "  max_sequence_len = max([len(x) for x in input_sequences])\n",
        "  input_sequences = np.array(pad_sequences(input_sequences,  maxlen=max_sequence_len, padding='pre'))\n",
        "  predictors, label = input_sequences[:,:-1], input_sequences[:, -1]\n",
        "  label = ku.to_categorical(label, num_classes = total_words)\n",
        "  return predictors, label, max_sequence_len\n",
        "predictors, label, max_sequence_len = generate_padded_sequences(inp_sequences)"
      ]
    },
    {
      "cell_type": "code",
      "execution_count": null,
      "metadata": {
        "id": "rg6SaLZjDgsC"
      },
      "outputs": [],
      "source": [
        "def create_model(max_sequence_len, total_words):\n",
        "  input_len = max_sequence_len-1\n",
        "  model = Sequential()\n",
        "\n",
        "  # Add Input Embedding Layer\n",
        "  model.add(Embedding(total_words, 10, input_length=input_len))\n",
        "\n",
        "  # Add Hidden Layer 1 — LSTM Layer\n",
        "  model.add(LSTM(100))\n",
        "  model.add(Dropout(0.1))\n",
        "\n",
        "  # Add Output Layer\n",
        "  model.add(Dense(total_words, activation='softmax'))\n",
        "  model.compile(loss='categorical_crossentropy', optimizer='adam')\n",
        "\n",
        "  return model\n",
        "model = create_model(max_sequence_len, total_words)"
      ]
    },
    {
      "cell_type": "code",
      "source": [
        "model.fit(predictors, label, epochs=30, verbose=1)"
      ],
      "metadata": {
        "id": "DKkg4z1lmF2G",
        "colab": {
          "base_uri": "https://localhost:8080/"
        },
        "outputId": "b8f47e3c-bcb0-4d3f-c311-a8ebf4c4f2c2"
      },
      "execution_count": null,
      "outputs": [
        {
          "output_type": "stream",
          "name": "stdout",
          "text": [
            "Epoch 1/30\n",
            "2202/2202 [==============================] - 132s 59ms/step - loss: 7.9540\n",
            "Epoch 2/30\n",
            "2202/2202 [==============================] - 132s 60ms/step - loss: 7.1337\n",
            "Epoch 3/30\n",
            "2202/2202 [==============================] - 128s 58ms/step - loss: 6.6326\n",
            "Epoch 4/30\n",
            "2202/2202 [==============================] - 129s 58ms/step - loss: 6.2056\n",
            "Epoch 5/30\n",
            "2202/2202 [==============================] - 131s 59ms/step - loss: 5.8119\n",
            "Epoch 6/30\n",
            "2202/2202 [==============================] - 131s 60ms/step - loss: 5.4512\n",
            "Epoch 7/30\n",
            "2202/2202 [==============================] - 130s 59ms/step - loss: 5.1342\n",
            "Epoch 8/30\n",
            "2202/2202 [==============================] - 131s 60ms/step - loss: 4.8444\n",
            "Epoch 9/30\n",
            "2202/2202 [==============================] - 134s 61ms/step - loss: 4.5812\n",
            "Epoch 10/30\n",
            "2202/2202 [==============================] - 129s 59ms/step - loss: 4.3438\n",
            "Epoch 11/30\n",
            "2202/2202 [==============================] - 131s 60ms/step - loss: 4.1210\n",
            "Epoch 12/30\n",
            "2202/2202 [==============================] - 131s 60ms/step - loss: 3.9204\n",
            "Epoch 13/30\n",
            "2202/2202 [==============================] - 131s 59ms/step - loss: 3.7331\n",
            "Epoch 14/30\n",
            "2202/2202 [==============================] - 134s 61ms/step - loss: 3.5632\n",
            "Epoch 15/30\n",
            "2202/2202 [==============================] - 130s 59ms/step - loss: 3.4051\n",
            "Epoch 16/30\n",
            "2202/2202 [==============================] - 130s 59ms/step - loss: 3.2525\n",
            "Epoch 17/30\n",
            "2202/2202 [==============================] - 129s 59ms/step - loss: 3.1158\n",
            "Epoch 18/30\n",
            "2202/2202 [==============================] - 130s 59ms/step - loss: 2.9911\n",
            "Epoch 19/30\n",
            "2202/2202 [==============================] - 131s 60ms/step - loss: 2.8728\n",
            "Epoch 20/30\n",
            "2202/2202 [==============================] - 132s 60ms/step - loss: 2.7662\n",
            "Epoch 21/30\n",
            "2202/2202 [==============================] - 129s 59ms/step - loss: 2.6645\n",
            "Epoch 22/30\n",
            "2202/2202 [==============================] - 128s 58ms/step - loss: 2.5762\n",
            "Epoch 23/30\n",
            "2202/2202 [==============================] - 129s 59ms/step - loss: 2.4908\n",
            "Epoch 24/30\n",
            "2202/2202 [==============================] - 134s 61ms/step - loss: 2.4080\n",
            "Epoch 25/30\n",
            "2202/2202 [==============================] - 129s 59ms/step - loss: 2.3379\n",
            "Epoch 26/30\n",
            "2202/2202 [==============================] - 133s 61ms/step - loss: 2.2793\n",
            "Epoch 27/30\n",
            "2202/2202 [==============================] - 132s 60ms/step - loss: 2.2096\n",
            "Epoch 28/30\n",
            "2202/2202 [==============================] - 130s 59ms/step - loss: 2.1514\n",
            "Epoch 29/30\n",
            "2202/2202 [==============================] - 132s 60ms/step - loss: 2.1007\n",
            "Epoch 30/30\n",
            "2202/2202 [==============================] - 134s 61ms/step - loss: 2.0472\n"
          ]
        },
        {
          "output_type": "execute_result",
          "data": {
            "text/plain": [
              "<keras.src.callbacks.History at 0x7eb1f090b2b0>"
            ]
          },
          "metadata": {},
          "execution_count": 17
        }
      ]
    },
    {
      "cell_type": "code",
      "execution_count": null,
      "metadata": {
        "id": "vHj00BAaF3PO"
      },
      "outputs": [],
      "source": [
        "def generate_text(seed_text, next_words, model, max_sequence_len):\n",
        "  for j in range(next_words):\n",
        "    token_list = tokenizer.texts_to_sequences([seed_text])[0]\n",
        "    token_list = pad_sequences([token_list], maxlen=max_sequence_len-1,  padding='pre')\n",
        "    predicted = np.argmax(model.predict(token_list), axis=-1)\n",
        "\n",
        "    output_word = \"\"\n",
        "    for word,index in tokenizer.word_index.items():\n",
        "      if index == predicted:\n",
        "        output_word = word\n",
        "        break\n",
        "    seed_text +=\" \"+output_word\n",
        "  return seed_text.title()"
      ]
    },
    {
      "cell_type": "code",
      "execution_count": null,
      "metadata": {
        "id": "68Zz5XmlGKi4",
        "colab": {
          "base_uri": "https://localhost:8080/"
        },
        "outputId": "1ce5a72f-6f00-4d1e-ceb3-d751d28c7e86"
      },
      "outputs": [
        {
          "output_type": "stream",
          "name": "stdout",
          "text": [
            "1/1 [==============================] - 0s 29ms/step\n",
            "1/1 [==============================] - 0s 26ms/step\n",
            "1/1 [==============================] - 0s 29ms/step\n",
            "1/1 [==============================] - 0s 26ms/step\n",
            "1/1 [==============================] - 0s 25ms/step\n",
            "Game Of Thrones Season 2 Trailer\n"
          ]
        }
      ],
      "source": [
        "print(generate_text(\"Game\", 5, model, max_sequence_len))"
      ]
    },
    {
      "cell_type": "code",
      "source": [
        "print(generate_text(\"friends\", 5, model, max_sequence_len))"
      ],
      "metadata": {
        "id": "bqWgqqgdRsFZ",
        "colab": {
          "base_uri": "https://localhost:8080/"
        },
        "outputId": "c71982fb-1ce6-489c-b1c5-e7cf7a28c8de"
      },
      "execution_count": null,
      "outputs": [
        {
          "output_type": "stream",
          "name": "stdout",
          "text": [
            "1/1 [==============================] - 0s 30ms/step\n",
            "1/1 [==============================] - 0s 35ms/step\n",
            "1/1 [==============================] - 0s 32ms/step\n",
            "1/1 [==============================] - 0s 31ms/step\n",
            "1/1 [==============================] - 0s 31ms/step\n",
            "Friends Of The Worst Official Trailer\n"
          ]
        }
      ]
    },
    {
      "cell_type": "code",
      "source": [
        "print(generate_text(\"simple\", 5, model, max_sequence_len))"
      ],
      "metadata": {
        "id": "Wx7LplltR0VP",
        "colab": {
          "base_uri": "https://localhost:8080/"
        },
        "outputId": "37fe4a5f-ee66-4fcf-e12f-2dde6cd9f5a7"
      },
      "execution_count": null,
      "outputs": [
        {
          "output_type": "stream",
          "name": "stdout",
          "text": [
            "1/1 [==============================] - 0s 50ms/step\n",
            "1/1 [==============================] - 0s 45ms/step\n",
            "1/1 [==============================] - 0s 41ms/step\n",
            "1/1 [==============================] - 0s 40ms/step\n",
            "1/1 [==============================] - 0s 44ms/step\n",
            "Simple Life Hacks Mrgear Is These\n"
          ]
        }
      ]
    }
  ],
  "metadata": {
    "colab": {
      "provenance": [],
      "include_colab_link": true
    },
    "kernelspec": {
      "display_name": "Python 3",
      "name": "python3"
    },
    "language_info": {
      "name": "python"
    }
  },
  "nbformat": 4,
  "nbformat_minor": 0
}